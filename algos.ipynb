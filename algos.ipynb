{
 "cells": [
  {
   "cell_type": "code",
   "execution_count": 1,
   "metadata": {},
   "outputs": [
    {
     "name": "stderr",
     "output_type": "stream",
     "text": [
      "/home/Kevin-Starlabs/miniconda3/envs/naimrod/lib/python3.10/site-packages/tqdm/auto.py:22: TqdmWarning: IProgress not found. Please update jupyter and ipywidgets. See https://ipywidgets.readthedocs.io/en/stable/user_install.html\n",
      "  from .autonotebook import tqdm as notebook_tqdm\n"
     ]
    }
   ],
   "source": [
    "from itertools import chain\n",
    "import matplotlib.pyplot as plt\n",
    "import numpy as np\n",
    "import pandas as pd\n",
    "import spacy\n",
    "from gensim.models.doc2vec import Doc2Vec, TaggedDocument\n",
    "from tqdm import tqdm\n",
    "from sklearn.metrics.pairwise import pairwise_distances\n",
    "from sklearn.metrics.pairwise import cosine_similarity\n",
    "from sklearn.feature_extraction.text import TfidfVectorizer\n",
    "from sklearn.metrics.pairwise import cosine_similarity\n",
    "\n",
    "\n",
    "tqdm.pandas()"
   ]
  },
  {
   "cell_type": "code",
   "execution_count": 2,
   "metadata": {},
   "outputs": [
    {
     "data": {
      "text/html": [
       "<div>\n",
       "<style scoped>\n",
       "    .dataframe tbody tr th:only-of-type {\n",
       "        vertical-align: middle;\n",
       "    }\n",
       "\n",
       "    .dataframe tbody tr th {\n",
       "        vertical-align: top;\n",
       "    }\n",
       "\n",
       "    .dataframe thead th {\n",
       "        text-align: right;\n",
       "    }\n",
       "</style>\n",
       "<table border=\"1\" class=\"dataframe\">\n",
       "  <thead>\n",
       "    <tr style=\"text-align: right;\">\n",
       "      <th></th>\n",
       "      <th>series</th>\n",
       "      <th>country_code</th>\n",
       "      <th>language_code</th>\n",
       "      <th>is_ebook</th>\n",
       "      <th>average_rating</th>\n",
       "      <th>similar_books</th>\n",
       "      <th>description</th>\n",
       "      <th>authors</th>\n",
       "      <th>publisher</th>\n",
       "      <th>num_pages</th>\n",
       "      <th>publication_year</th>\n",
       "      <th>book_id</th>\n",
       "      <th>title</th>\n",
       "      <th>title_without_series</th>\n",
       "      <th>genres</th>\n",
       "      <th>text</th>\n",
       "    </tr>\n",
       "  </thead>\n",
       "  <tbody>\n",
       "    <tr>\n",
       "      <th>0</th>\n",
       "      <td>[]</td>\n",
       "      <td>US</td>\n",
       "      <td></td>\n",
       "      <td>false</td>\n",
       "      <td>3.51</td>\n",
       "      <td>[]</td>\n",
       "      <td>The sequel to Zenescope's hit Grimm Fairy Tale...</td>\n",
       "      <td>[Joe Brusha]</td>\n",
       "      <td>Zenescope Entertainment</td>\n",
       "      <td>120</td>\n",
       "      <td>2012</td>\n",
       "      <td>14654379</td>\n",
       "      <td>Neverland: Hook</td>\n",
       "      <td>Neverland: Hook</td>\n",
       "      <td>{'comics, graphic': 38, 'fantasy, paranormal':...</td>\n",
       "      <td>Neverland: Hook The sequel to Zenescope's hit ...</td>\n",
       "    </tr>\n",
       "    <tr>\n",
       "      <th>1</th>\n",
       "      <td>[Maggie's Grove]</td>\n",
       "      <td>US</td>\n",
       "      <td>en-GB</td>\n",
       "      <td>true</td>\n",
       "      <td>3.88</td>\n",
       "      <td>[The Geek Job, Rare Vintage (Lords of the Were...</td>\n",
       "      <td>A seduction-gone-wrong leaves vampire Parker H...</td>\n",
       "      <td>[Dana Marie Bell]</td>\n",
       "      <td>Carina Press</td>\n",
       "      <td></td>\n",
       "      <td>2011</td>\n",
       "      <td>11068029</td>\n",
       "      <td>Blood of the Maple (Maggie's Grove, #1)</td>\n",
       "      <td>Blood of the Maple (Maggie's Grove, #1)</td>\n",
       "      <td>{'fantasy, paranormal': 185, 'romance': 129, '...</td>\n",
       "      <td>Blood of the Maple (Maggie's Grove, #1) A sedu...</td>\n",
       "    </tr>\n",
       "    <tr>\n",
       "      <th>2</th>\n",
       "      <td>[]</td>\n",
       "      <td>US</td>\n",
       "      <td></td>\n",
       "      <td>false</td>\n",
       "      <td>3.33</td>\n",
       "      <td>[]</td>\n",
       "      <td></td>\n",
       "      <td>[Nicci Talbot]</td>\n",
       "      <td>Amorata Press</td>\n",
       "      <td>128</td>\n",
       "      <td>2008</td>\n",
       "      <td>2412568</td>\n",
       "      <td>Going Down: An Illustrated Guide to Giving Him...</td>\n",
       "      <td>Going Down: An Illustrated Guide to Giving Him...</td>\n",
       "      <td>{}</td>\n",
       "      <td>Going Down: An Illustrated Guide to Giving Him...</td>\n",
       "    </tr>\n",
       "    <tr>\n",
       "      <th>3</th>\n",
       "      <td>[]</td>\n",
       "      <td>US</td>\n",
       "      <td></td>\n",
       "      <td>false</td>\n",
       "      <td>3.93</td>\n",
       "      <td>[]</td>\n",
       "      <td>When Alan Greenberg first showed up at Werner ...</td>\n",
       "      <td>[Alan Greenberg, Werner Herzog]</td>\n",
       "      <td>Chicago Review Press</td>\n",
       "      <td>224</td>\n",
       "      <td>2012</td>\n",
       "      <td>13225960</td>\n",
       "      <td>Every Night the Trees Disappear: Werner Herzog...</td>\n",
       "      <td>Every Night the Trees Disappear: Werner Herzog...</td>\n",
       "      <td>{'non-fiction': 4, 'history, historical fictio...</td>\n",
       "      <td>Every Night the Trees Disappear: Werner Herzog...</td>\n",
       "    </tr>\n",
       "    <tr>\n",
       "      <th>4</th>\n",
       "      <td>[]</td>\n",
       "      <td>US</td>\n",
       "      <td>en-GB</td>\n",
       "      <td>true</td>\n",
       "      <td>4.71</td>\n",
       "      <td>[]</td>\n",
       "      <td>The Bodyguard's Vow novella is a lighthearted ...</td>\n",
       "      <td>[Regan Black]</td>\n",
       "      <td>Getaway Reads, LLC (April 23, 2013)</td>\n",
       "      <td></td>\n",
       "      <td>2013</td>\n",
       "      <td>17875022</td>\n",
       "      <td>The Bodyguard's Vow</td>\n",
       "      <td>The Bodyguard's Vow</td>\n",
       "      <td>{'romance': 1, 'fantasy, paranormal': 1}</td>\n",
       "      <td>The Bodyguard's Vow The Bodyguard's Vow novell...</td>\n",
       "    </tr>\n",
       "  </tbody>\n",
       "</table>\n",
       "</div>"
      ],
      "text/plain": [
       "             series country_code language_code is_ebook average_rating  \\\n",
       "0                []           US                  false           3.51   \n",
       "1  [Maggie's Grove]           US         en-GB     true           3.88   \n",
       "2                []           US                  false           3.33   \n",
       "3                []           US                  false           3.93   \n",
       "4                []           US         en-GB     true           4.71   \n",
       "\n",
       "                                       similar_books  \\\n",
       "0                                                 []   \n",
       "1  [The Geek Job, Rare Vintage (Lords of the Were...   \n",
       "2                                                 []   \n",
       "3                                                 []   \n",
       "4                                                 []   \n",
       "\n",
       "                                         description  \\\n",
       "0  The sequel to Zenescope's hit Grimm Fairy Tale...   \n",
       "1  A seduction-gone-wrong leaves vampire Parker H...   \n",
       "2                                                      \n",
       "3  When Alan Greenberg first showed up at Werner ...   \n",
       "4  The Bodyguard's Vow novella is a lighthearted ...   \n",
       "\n",
       "                           authors                            publisher  \\\n",
       "0                     [Joe Brusha]              Zenescope Entertainment   \n",
       "1                [Dana Marie Bell]                         Carina Press   \n",
       "2                   [Nicci Talbot]                        Amorata Press   \n",
       "3  [Alan Greenberg, Werner Herzog]                 Chicago Review Press   \n",
       "4                    [Regan Black]  Getaway Reads, LLC (April 23, 2013)   \n",
       "\n",
       "  num_pages publication_year   book_id  \\\n",
       "0       120             2012  14654379   \n",
       "1                       2011  11068029   \n",
       "2       128             2008   2412568   \n",
       "3       224             2012  13225960   \n",
       "4                       2013  17875022   \n",
       "\n",
       "                                               title  \\\n",
       "0                                    Neverland: Hook   \n",
       "1            Blood of the Maple (Maggie's Grove, #1)   \n",
       "2  Going Down: An Illustrated Guide to Giving Him...   \n",
       "3  Every Night the Trees Disappear: Werner Herzog...   \n",
       "4                                The Bodyguard's Vow   \n",
       "\n",
       "                                title_without_series  \\\n",
       "0                                    Neverland: Hook   \n",
       "1            Blood of the Maple (Maggie's Grove, #1)   \n",
       "2  Going Down: An Illustrated Guide to Giving Him...   \n",
       "3  Every Night the Trees Disappear: Werner Herzog...   \n",
       "4                                The Bodyguard's Vow   \n",
       "\n",
       "                                              genres  \\\n",
       "0  {'comics, graphic': 38, 'fantasy, paranormal':...   \n",
       "1  {'fantasy, paranormal': 185, 'romance': 129, '...   \n",
       "2                                                 {}   \n",
       "3  {'non-fiction': 4, 'history, historical fictio...   \n",
       "4           {'romance': 1, 'fantasy, paranormal': 1}   \n",
       "\n",
       "                                                text  \n",
       "0  Neverland: Hook The sequel to Zenescope's hit ...  \n",
       "1  Blood of the Maple (Maggie's Grove, #1) A sedu...  \n",
       "2  Going Down: An Illustrated Guide to Giving Him...  \n",
       "3  Every Night the Trees Disappear: Werner Herzog...  \n",
       "4  The Bodyguard's Vow The Bodyguard's Vow novell...  "
      ]
     },
     "execution_count": 2,
     "metadata": {},
     "output_type": "execute_result"
    }
   ],
   "source": [
    "df = pd.read_pickle('5p_books.pickle')\n",
    "df = df.sample(frac=0.5, random_state = 1, ignore_index = True)\n",
    "df.head()"
   ]
  },
  {
   "cell_type": "code",
   "execution_count": 3,
   "metadata": {},
   "outputs": [
    {
     "name": "stdout",
     "output_type": "stream",
     "text": [
      "['comics', 'graphic', 'fantasy', 'paranormal', 'fiction']\n",
      "\n"
     ]
    }
   ],
   "source": [
    "nlp = spacy.load('en_core_web_lg')\n",
    "\n",
    "def text_process(text:str, nlp, lemmatize = False):\n",
    "    \"\"\"\n",
    "    Use spacy lemmatizer to tokenize or lemmatize text. Remove stopwords, punctuation\n",
    "    Input: text (string)\n",
    "    Output: list of tokens \"\"\"\n",
    "    if lemmatize:\n",
    "        return ' '.join([token.lemma_ for token in nlp(text.strip(), disable=[\"parser\", \"ner\"]) if not token.is_stop and not token.is_punct ])\n",
    "    else:\n",
    "        \n",
    "        text = ' '.join([token.text for token in nlp(text.strip()) \n",
    "                     if not token.like_email and not token.like_url and not token.is_space ])\n",
    "\n",
    "        return text\n",
    "\n",
    "def genre_extractor(d):\n",
    "    \"\"\"Extract keys from dict into a flatten list\"\"\"\n",
    "    keys = [key.split(',') for key in d.keys()]\n",
    "    keys = list(chain(*keys))\n",
    "    keys = [key.strip() for key in keys]\n",
    "    return keys\n",
    "\n",
    "\n",
    "\n",
    "def unpack_list(l):\n",
    "    \"\"\"Unpack elements of a list and join them into a string\"\"\"\n",
    "    return ', '.join([item for item in l])\n",
    "\n",
    "print(genre_extractor(df.genres.iloc[0]))\n",
    "print(unpack_list(df.series.iloc[0]))"
   ]
  },
  {
   "cell_type": "code",
   "execution_count": 4,
   "metadata": {},
   "outputs": [
    {
     "name": "stderr",
     "output_type": "stream",
     "text": [
      "100%|██████████| 33581/33581 [03:12<00:00, 174.15it/s]\n",
      "100%|██████████| 33581/33581 [00:00<00:00, 524700.11it/s]\n",
      "100%|██████████| 33581/33581 [00:00<00:00, 375862.74it/s]\n",
      "100%|██████████| 33581/33581 [00:00<00:00, 473524.52it/s]\n",
      "100%|██████████| 33581/33581 [00:00<00:00, 320274.24it/s]\n"
     ]
    }
   ],
   "source": [
    "# drop empty rows\n",
    "df = df.dropna(how = 'all')\n",
    "#Lemmatize, remove stopwords, punctuation\n",
    "df['Clean_text'] = df.description.progress_apply(text_process, nlp = nlp, lemmatize = True)\n",
    "#Unpack series, ooks, authors\n",
    "df['series'] = df.series.progress_apply(unpack_list)\n",
    "df['similar_books'] = df.similar_books.progress_apply(unpack_list)\n",
    "df['authors']= df.authors.progress_apply(unpack_list)\n",
    "#Get list of genres\n",
    "df['genre_keys'] = df.genres.progress_apply(genre_extractor)\n",
    "# Concatenate Lammetized description, serie, authors, similar books\n",
    "df['Clean_text'] = df.title + df.Clean_text + ' ' + df.series+ ' ' +df.authors+' ' +df.similar_books\n",
    "#Convert str to int\n",
    "df['num_pages'] = pd.to_numeric(df.loc[:,'num_pages'], downcast=\"integer\")\n",
    "df['num_pages'] = df.num_pages.fillna(df.num_pages.mean())\n",
    "df['average_rating'] = pd.to_numeric(df.loc[:,'average_rating'], downcast=\"integer\")\n",
    "df['publication_year'] = df.loc[:,'publication_year'].astype(int)\n",
    "df['is_ebook'] = df['is_ebook'].map({'false':0, 'true':1})\n",
    "df['is_ebook'] = df.is_ebook.fillna(0)\n"
   ]
  },
  {
   "cell_type": "code",
   "execution_count": 5,
   "metadata": {},
   "outputs": [
    {
     "data": {
      "text/plain": [
       "{'biography',\n",
       " 'children',\n",
       " 'comics',\n",
       " 'crime',\n",
       " 'fantasy',\n",
       " 'fiction',\n",
       " 'graphic',\n",
       " 'historical fiction',\n",
       " 'history',\n",
       " 'mystery',\n",
       " 'non-fiction',\n",
       " 'paranormal',\n",
       " 'poetry',\n",
       " 'romance',\n",
       " 'thriller',\n",
       " 'young-adult'}"
      ]
     },
     "execution_count": 5,
     "metadata": {},
     "output_type": "execute_result"
    }
   ],
   "source": [
    "genres = df.genre_keys.tolist()\n",
    "genres = set(list(chain(*genres)))\n",
    "genres"
   ]
  },
  {
   "cell_type": "code",
   "execution_count": 6,
   "metadata": {},
   "outputs": [
    {
     "data": {
      "text/html": [
       "<div>\n",
       "<style scoped>\n",
       "    .dataframe tbody tr th:only-of-type {\n",
       "        vertical-align: middle;\n",
       "    }\n",
       "\n",
       "    .dataframe tbody tr th {\n",
       "        vertical-align: top;\n",
       "    }\n",
       "\n",
       "    .dataframe thead th {\n",
       "        text-align: right;\n",
       "    }\n",
       "</style>\n",
       "<table border=\"1\" class=\"dataframe\">\n",
       "  <thead>\n",
       "    <tr style=\"text-align: right;\">\n",
       "      <th></th>\n",
       "      <th>is_ebook</th>\n",
       "    </tr>\n",
       "  </thead>\n",
       "  <tbody>\n",
       "    <tr>\n",
       "      <th>0</th>\n",
       "      <td>0</td>\n",
       "    </tr>\n",
       "    <tr>\n",
       "      <th>1</th>\n",
       "      <td>1</td>\n",
       "    </tr>\n",
       "    <tr>\n",
       "      <th>2</th>\n",
       "      <td>0</td>\n",
       "    </tr>\n",
       "    <tr>\n",
       "      <th>3</th>\n",
       "      <td>0</td>\n",
       "    </tr>\n",
       "    <tr>\n",
       "      <th>4</th>\n",
       "      <td>1</td>\n",
       "    </tr>\n",
       "  </tbody>\n",
       "</table>\n",
       "</div>"
      ],
      "text/plain": [
       "   is_ebook\n",
       "0         0\n",
       "1         1\n",
       "2         0\n",
       "3         0\n",
       "4         1"
      ]
     },
     "execution_count": 6,
     "metadata": {},
     "output_type": "execute_result"
    }
   ],
   "source": [
    "columns = ['is_ebook', \n",
    "       #'num_pages', 'publication_year',\n",
    "       #'genre_keys','average_rating',\n",
    "       ]\n",
    "# keep following columns: ['is_ebook',   'format', 'num_pages', 'genre_keys']\n",
    "df_bin = df.loc[:, df.columns.isin(columns)]\n",
    "df_bin.head()"
   ]
  },
  {
   "cell_type": "code",
   "execution_count": 7,
   "metadata": {},
   "outputs": [
    {
     "name": "stdout",
     "output_type": "stream",
     "text": [
      "romance\n"
     ]
    },
    {
     "name": "stderr",
     "output_type": "stream",
     "text": [
      "100%|██████████| 33581/33581 [00:00<00:00, 507924.27it/s]\n",
      "/tmp/ipykernel_2444/2815172415.py:4: SettingWithCopyWarning: \n",
      "A value is trying to be set on a copy of a slice from a DataFrame.\n",
      "Try using .loc[row_indexer,col_indexer] = value instead\n",
      "\n",
      "See the caveats in the documentation: https://pandas.pydata.org/pandas-docs/stable/user_guide/indexing.html#returning-a-view-versus-a-copy\n",
      "  df_bin[genre] = df.genre_keys.progress_apply(lambda x: genre in x)\n"
     ]
    },
    {
     "name": "stdout",
     "output_type": "stream",
     "text": [
      "crime\n"
     ]
    },
    {
     "name": "stderr",
     "output_type": "stream",
     "text": [
      "100%|██████████| 33581/33581 [00:00<00:00, 529367.92it/s]\n",
      "/tmp/ipykernel_2444/2815172415.py:4: SettingWithCopyWarning: \n",
      "A value is trying to be set on a copy of a slice from a DataFrame.\n",
      "Try using .loc[row_indexer,col_indexer] = value instead\n",
      "\n",
      "See the caveats in the documentation: https://pandas.pydata.org/pandas-docs/stable/user_guide/indexing.html#returning-a-view-versus-a-copy\n",
      "  df_bin[genre] = df.genre_keys.progress_apply(lambda x: genre in x)\n"
     ]
    },
    {
     "name": "stdout",
     "output_type": "stream",
     "text": [
      "graphic\n"
     ]
    },
    {
     "name": "stderr",
     "output_type": "stream",
     "text": [
      "100%|██████████| 33581/33581 [00:00<00:00, 512476.07it/s]"
     ]
    },
    {
     "name": "stdout",
     "output_type": "stream",
     "text": [
      "history\n"
     ]
    },
    {
     "name": "stderr",
     "output_type": "stream",
     "text": [
      "\n",
      "/tmp/ipykernel_2444/2815172415.py:4: SettingWithCopyWarning: \n",
      "A value is trying to be set on a copy of a slice from a DataFrame.\n",
      "Try using .loc[row_indexer,col_indexer] = value instead\n",
      "\n",
      "See the caveats in the documentation: https://pandas.pydata.org/pandas-docs/stable/user_guide/indexing.html#returning-a-view-versus-a-copy\n",
      "  df_bin[genre] = df.genre_keys.progress_apply(lambda x: genre in x)\n",
      "100%|██████████| 33581/33581 [00:00<00:00, 513756.53it/s]\n",
      "/tmp/ipykernel_2444/2815172415.py:4: SettingWithCopyWarning: \n",
      "A value is trying to be set on a copy of a slice from a DataFrame.\n",
      "Try using .loc[row_indexer,col_indexer] = value instead\n",
      "\n",
      "See the caveats in the documentation: https://pandas.pydata.org/pandas-docs/stable/user_guide/indexing.html#returning-a-view-versus-a-copy\n",
      "  df_bin[genre] = df.genre_keys.progress_apply(lambda x: genre in x)\n"
     ]
    },
    {
     "name": "stdout",
     "output_type": "stream",
     "text": [
      "children\n"
     ]
    },
    {
     "name": "stderr",
     "output_type": "stream",
     "text": [
      "100%|██████████| 33581/33581 [00:00<00:00, 523845.37it/s]\n",
      "/tmp/ipykernel_2444/2815172415.py:4: SettingWithCopyWarning: \n",
      "A value is trying to be set on a copy of a slice from a DataFrame.\n",
      "Try using .loc[row_indexer,col_indexer] = value instead\n",
      "\n",
      "See the caveats in the documentation: https://pandas.pydata.org/pandas-docs/stable/user_guide/indexing.html#returning-a-view-versus-a-copy\n",
      "  df_bin[genre] = df.genre_keys.progress_apply(lambda x: genre in x)\n"
     ]
    },
    {
     "name": "stdout",
     "output_type": "stream",
     "text": [
      "biography\n"
     ]
    },
    {
     "name": "stderr",
     "output_type": "stream",
     "text": [
      "100%|██████████| 33581/33581 [00:00<00:00, 525903.01it/s]\n",
      "/tmp/ipykernel_2444/2815172415.py:4: SettingWithCopyWarning: \n",
      "A value is trying to be set on a copy of a slice from a DataFrame.\n",
      "Try using .loc[row_indexer,col_indexer] = value instead\n",
      "\n",
      "See the caveats in the documentation: https://pandas.pydata.org/pandas-docs/stable/user_guide/indexing.html#returning-a-view-versus-a-copy\n",
      "  df_bin[genre] = df.genre_keys.progress_apply(lambda x: genre in x)\n"
     ]
    },
    {
     "name": "stdout",
     "output_type": "stream",
     "text": [
      "fantasy\n"
     ]
    },
    {
     "name": "stderr",
     "output_type": "stream",
     "text": [
      "100%|██████████| 33581/33581 [00:00<00:00, 512866.07it/s]\n",
      "/tmp/ipykernel_2444/2815172415.py:4: SettingWithCopyWarning: \n",
      "A value is trying to be set on a copy of a slice from a DataFrame.\n",
      "Try using .loc[row_indexer,col_indexer] = value instead\n",
      "\n",
      "See the caveats in the documentation: https://pandas.pydata.org/pandas-docs/stable/user_guide/indexing.html#returning-a-view-versus-a-copy\n",
      "  df_bin[genre] = df.genre_keys.progress_apply(lambda x: genre in x)\n"
     ]
    },
    {
     "name": "stdout",
     "output_type": "stream",
     "text": [
      "non-fiction\n"
     ]
    },
    {
     "name": "stderr",
     "output_type": "stream",
     "text": [
      "100%|██████████| 33581/33581 [00:00<00:00, 520275.28it/s]\n",
      "/tmp/ipykernel_2444/2815172415.py:4: SettingWithCopyWarning: \n",
      "A value is trying to be set on a copy of a slice from a DataFrame.\n",
      "Try using .loc[row_indexer,col_indexer] = value instead\n",
      "\n",
      "See the caveats in the documentation: https://pandas.pydata.org/pandas-docs/stable/user_guide/indexing.html#returning-a-view-versus-a-copy\n",
      "  df_bin[genre] = df.genre_keys.progress_apply(lambda x: genre in x)\n"
     ]
    },
    {
     "name": "stdout",
     "output_type": "stream",
     "text": [
      "fiction\n"
     ]
    },
    {
     "name": "stderr",
     "output_type": "stream",
     "text": [
      "100%|██████████| 33581/33581 [00:00<00:00, 508724.13it/s]\n",
      "/tmp/ipykernel_2444/2815172415.py:4: SettingWithCopyWarning: \n",
      "A value is trying to be set on a copy of a slice from a DataFrame.\n",
      "Try using .loc[row_indexer,col_indexer] = value instead\n",
      "\n",
      "See the caveats in the documentation: https://pandas.pydata.org/pandas-docs/stable/user_guide/indexing.html#returning-a-view-versus-a-copy\n",
      "  df_bin[genre] = df.genre_keys.progress_apply(lambda x: genre in x)\n"
     ]
    },
    {
     "name": "stdout",
     "output_type": "stream",
     "text": [
      "thriller\n"
     ]
    },
    {
     "name": "stderr",
     "output_type": "stream",
     "text": [
      "100%|██████████| 33581/33581 [00:00<00:00, 519172.57it/s]\n",
      "/tmp/ipykernel_2444/2815172415.py:4: SettingWithCopyWarning: \n",
      "A value is trying to be set on a copy of a slice from a DataFrame.\n",
      "Try using .loc[row_indexer,col_indexer] = value instead\n",
      "\n",
      "See the caveats in the documentation: https://pandas.pydata.org/pandas-docs/stable/user_guide/indexing.html#returning-a-view-versus-a-copy\n",
      "  df_bin[genre] = df.genre_keys.progress_apply(lambda x: genre in x)\n"
     ]
    },
    {
     "name": "stdout",
     "output_type": "stream",
     "text": [
      "young-adult\n"
     ]
    },
    {
     "name": "stderr",
     "output_type": "stream",
     "text": [
      "100%|██████████| 33581/33581 [00:00<00:00, 517754.59it/s]\n",
      "/tmp/ipykernel_2444/2815172415.py:4: SettingWithCopyWarning: \n",
      "A value is trying to be set on a copy of a slice from a DataFrame.\n",
      "Try using .loc[row_indexer,col_indexer] = value instead\n",
      "\n",
      "See the caveats in the documentation: https://pandas.pydata.org/pandas-docs/stable/user_guide/indexing.html#returning-a-view-versus-a-copy\n",
      "  df_bin[genre] = df.genre_keys.progress_apply(lambda x: genre in x)\n"
     ]
    },
    {
     "name": "stdout",
     "output_type": "stream",
     "text": [
      "poetry\n"
     ]
    },
    {
     "name": "stderr",
     "output_type": "stream",
     "text": [
      "100%|██████████| 33581/33581 [00:00<00:00, 519925.74it/s]\n",
      "/tmp/ipykernel_2444/2815172415.py:4: SettingWithCopyWarning: \n",
      "A value is trying to be set on a copy of a slice from a DataFrame.\n",
      "Try using .loc[row_indexer,col_indexer] = value instead\n",
      "\n",
      "See the caveats in the documentation: https://pandas.pydata.org/pandas-docs/stable/user_guide/indexing.html#returning-a-view-versus-a-copy\n",
      "  df_bin[genre] = df.genre_keys.progress_apply(lambda x: genre in x)\n"
     ]
    },
    {
     "name": "stdout",
     "output_type": "stream",
     "text": [
      "comics\n"
     ]
    },
    {
     "name": "stderr",
     "output_type": "stream",
     "text": [
      "100%|██████████| 33581/33581 [00:00<00:00, 521222.53it/s]\n",
      "/tmp/ipykernel_2444/2815172415.py:4: SettingWithCopyWarning: \n",
      "A value is trying to be set on a copy of a slice from a DataFrame.\n",
      "Try using .loc[row_indexer,col_indexer] = value instead\n",
      "\n",
      "See the caveats in the documentation: https://pandas.pydata.org/pandas-docs/stable/user_guide/indexing.html#returning-a-view-versus-a-copy\n",
      "  df_bin[genre] = df.genre_keys.progress_apply(lambda x: genre in x)\n"
     ]
    },
    {
     "name": "stdout",
     "output_type": "stream",
     "text": [
      "paranormal\n"
     ]
    },
    {
     "name": "stderr",
     "output_type": "stream",
     "text": [
      "100%|██████████| 33581/33581 [00:00<00:00, 524729.43it/s]\n",
      "/tmp/ipykernel_2444/2815172415.py:4: SettingWithCopyWarning: \n",
      "A value is trying to be set on a copy of a slice from a DataFrame.\n",
      "Try using .loc[row_indexer,col_indexer] = value instead\n",
      "\n",
      "See the caveats in the documentation: https://pandas.pydata.org/pandas-docs/stable/user_guide/indexing.html#returning-a-view-versus-a-copy\n",
      "  df_bin[genre] = df.genre_keys.progress_apply(lambda x: genre in x)\n"
     ]
    },
    {
     "name": "stdout",
     "output_type": "stream",
     "text": [
      "historical fiction\n"
     ]
    },
    {
     "name": "stderr",
     "output_type": "stream",
     "text": [
      "100%|██████████| 33581/33581 [00:00<00:00, 524311.42it/s]\n",
      "/tmp/ipykernel_2444/2815172415.py:4: SettingWithCopyWarning: \n",
      "A value is trying to be set on a copy of a slice from a DataFrame.\n",
      "Try using .loc[row_indexer,col_indexer] = value instead\n",
      "\n",
      "See the caveats in the documentation: https://pandas.pydata.org/pandas-docs/stable/user_guide/indexing.html#returning-a-view-versus-a-copy\n",
      "  df_bin[genre] = df.genre_keys.progress_apply(lambda x: genre in x)\n"
     ]
    },
    {
     "name": "stdout",
     "output_type": "stream",
     "text": [
      "mystery\n"
     ]
    },
    {
     "name": "stderr",
     "output_type": "stream",
     "text": [
      "100%|██████████| 33581/33581 [00:00<00:00, 515124.41it/s]\n",
      "/tmp/ipykernel_2444/2815172415.py:4: SettingWithCopyWarning: \n",
      "A value is trying to be set on a copy of a slice from a DataFrame.\n",
      "Try using .loc[row_indexer,col_indexer] = value instead\n",
      "\n",
      "See the caveats in the documentation: https://pandas.pydata.org/pandas-docs/stable/user_guide/indexing.html#returning-a-view-versus-a-copy\n",
      "  df_bin[genre] = df.genre_keys.progress_apply(lambda x: genre in x)\n"
     ]
    }
   ],
   "source": [
    "#genres \n",
    "for genre in genres:\n",
    "    print(genre)\n",
    "    df_bin[genre] = df.genre_keys.progress_apply(lambda x: genre in x)\n",
    "    \n",
    "#Rating columns\n",
    "rating_columns = ['avg_rating>={}'.format(i) for i in range(1,5)]+ ['avg_rating>=4.5']\n",
    "\n",
    "for rating_column in rating_columns:\n",
    "    df_bin[rating_column] = 0\n",
    "    #print(type(float(rating_column.split('=')[-1])))\n",
    "    df_bin.loc[df['average_rating'] > float(rating_column.split('=')[-1]), rating_column] = 1\n",
    "\n",
    "\n",
    "#Publication year\n",
    "publication_y_cols = [\"published_before_70's\"]+ [\"published_in_the_{:02d}'s\".format(i%100) for i in range(70, 111, 10)]\n",
    "publication_y_cols\n",
    "\n",
    "for col in publication_y_cols:\n",
    "    df_bin[col] = 0\n",
    "df_bin.loc[df['publication_year'] < 1970, publication_y_cols[0]] = 1\n",
    "df_bin.loc[((df['publication_year'] >= 1970) & (df['publication_year'] < 1980)), publication_y_cols[1]] = 1\n",
    "df_bin.loc[((df['publication_year'] >= 1980) & (df['publication_year'] < 1990)), publication_y_cols[2]] = 1\n",
    "df_bin.loc[((df['publication_year'] >= 1990 )& (df['publication_year'] < 2000)), publication_y_cols[3]] = 1\n",
    "df_bin.loc[((df['publication_year'] >= 2000) & (df['publication_year'] < 2010)), publication_y_cols[4]] = 1\n",
    "df_bin.loc[df['publication_year'] >= 2010, publication_y_cols[5]] = 1\n",
    "\n",
    "#num_pages\n",
    "page_columns = ['#Pages>200', '#Pages>250', '#Pages>300', '#Pages>500'] #[q33, q45, q72,  q95]\n",
    "for page_col in page_columns:\n",
    "    df_bin[page_col] = 0\n",
    "    df_bin.loc[df['num_pages'] > float(page_col.split('>')[-1]), page_col] = 1"
   ]
  },
  {
   "cell_type": "code",
   "execution_count": 8,
   "metadata": {},
   "outputs": [
    {
     "data": {
      "text/html": [
       "<div>\n",
       "<style scoped>\n",
       "    .dataframe tbody tr th:only-of-type {\n",
       "        vertical-align: middle;\n",
       "    }\n",
       "\n",
       "    .dataframe tbody tr th {\n",
       "        vertical-align: top;\n",
       "    }\n",
       "\n",
       "    .dataframe thead th {\n",
       "        text-align: right;\n",
       "    }\n",
       "</style>\n",
       "<table border=\"1\" class=\"dataframe\">\n",
       "  <thead>\n",
       "    <tr style=\"text-align: right;\">\n",
       "      <th></th>\n",
       "      <th>is_ebook</th>\n",
       "      <th>romance</th>\n",
       "      <th>crime</th>\n",
       "      <th>graphic</th>\n",
       "      <th>history</th>\n",
       "      <th>children</th>\n",
       "      <th>biography</th>\n",
       "      <th>fantasy</th>\n",
       "      <th>non-fiction</th>\n",
       "      <th>fiction</th>\n",
       "      <th>...</th>\n",
       "      <th>published_before_70's</th>\n",
       "      <th>published_in_the_70's</th>\n",
       "      <th>published_in_the_80's</th>\n",
       "      <th>published_in_the_90's</th>\n",
       "      <th>published_in_the_00's</th>\n",
       "      <th>published_in_the_10's</th>\n",
       "      <th>#Pages&gt;200</th>\n",
       "      <th>#Pages&gt;250</th>\n",
       "      <th>#Pages&gt;300</th>\n",
       "      <th>#Pages&gt;500</th>\n",
       "    </tr>\n",
       "  </thead>\n",
       "  <tbody>\n",
       "    <tr>\n",
       "      <th>0</th>\n",
       "      <td>0</td>\n",
       "      <td>False</td>\n",
       "      <td>False</td>\n",
       "      <td>True</td>\n",
       "      <td>False</td>\n",
       "      <td>False</td>\n",
       "      <td>False</td>\n",
       "      <td>True</td>\n",
       "      <td>False</td>\n",
       "      <td>True</td>\n",
       "      <td>...</td>\n",
       "      <td>0</td>\n",
       "      <td>0</td>\n",
       "      <td>0</td>\n",
       "      <td>0</td>\n",
       "      <td>0</td>\n",
       "      <td>1</td>\n",
       "      <td>0</td>\n",
       "      <td>0</td>\n",
       "      <td>0</td>\n",
       "      <td>0</td>\n",
       "    </tr>\n",
       "    <tr>\n",
       "      <th>1</th>\n",
       "      <td>1</td>\n",
       "      <td>True</td>\n",
       "      <td>False</td>\n",
       "      <td>False</td>\n",
       "      <td>False</td>\n",
       "      <td>False</td>\n",
       "      <td>False</td>\n",
       "      <td>True</td>\n",
       "      <td>False</td>\n",
       "      <td>True</td>\n",
       "      <td>...</td>\n",
       "      <td>0</td>\n",
       "      <td>0</td>\n",
       "      <td>0</td>\n",
       "      <td>0</td>\n",
       "      <td>0</td>\n",
       "      <td>1</td>\n",
       "      <td>1</td>\n",
       "      <td>1</td>\n",
       "      <td>0</td>\n",
       "      <td>0</td>\n",
       "    </tr>\n",
       "    <tr>\n",
       "      <th>2</th>\n",
       "      <td>0</td>\n",
       "      <td>False</td>\n",
       "      <td>False</td>\n",
       "      <td>False</td>\n",
       "      <td>False</td>\n",
       "      <td>False</td>\n",
       "      <td>False</td>\n",
       "      <td>False</td>\n",
       "      <td>False</td>\n",
       "      <td>False</td>\n",
       "      <td>...</td>\n",
       "      <td>0</td>\n",
       "      <td>0</td>\n",
       "      <td>0</td>\n",
       "      <td>0</td>\n",
       "      <td>1</td>\n",
       "      <td>0</td>\n",
       "      <td>0</td>\n",
       "      <td>0</td>\n",
       "      <td>0</td>\n",
       "      <td>0</td>\n",
       "    </tr>\n",
       "    <tr>\n",
       "      <th>3</th>\n",
       "      <td>0</td>\n",
       "      <td>False</td>\n",
       "      <td>False</td>\n",
       "      <td>False</td>\n",
       "      <td>True</td>\n",
       "      <td>False</td>\n",
       "      <td>True</td>\n",
       "      <td>False</td>\n",
       "      <td>True</td>\n",
       "      <td>False</td>\n",
       "      <td>...</td>\n",
       "      <td>0</td>\n",
       "      <td>0</td>\n",
       "      <td>0</td>\n",
       "      <td>0</td>\n",
       "      <td>0</td>\n",
       "      <td>1</td>\n",
       "      <td>1</td>\n",
       "      <td>0</td>\n",
       "      <td>0</td>\n",
       "      <td>0</td>\n",
       "    </tr>\n",
       "    <tr>\n",
       "      <th>4</th>\n",
       "      <td>1</td>\n",
       "      <td>True</td>\n",
       "      <td>False</td>\n",
       "      <td>False</td>\n",
       "      <td>False</td>\n",
       "      <td>False</td>\n",
       "      <td>False</td>\n",
       "      <td>True</td>\n",
       "      <td>False</td>\n",
       "      <td>False</td>\n",
       "      <td>...</td>\n",
       "      <td>0</td>\n",
       "      <td>0</td>\n",
       "      <td>0</td>\n",
       "      <td>0</td>\n",
       "      <td>0</td>\n",
       "      <td>1</td>\n",
       "      <td>1</td>\n",
       "      <td>1</td>\n",
       "      <td>0</td>\n",
       "      <td>0</td>\n",
       "    </tr>\n",
       "  </tbody>\n",
       "</table>\n",
       "<p>5 rows × 32 columns</p>\n",
       "</div>"
      ],
      "text/plain": [
       "   is_ebook  romance  crime  graphic  history  children  biography  fantasy  \\\n",
       "0         0    False  False     True    False     False      False     True   \n",
       "1         1     True  False    False    False     False      False     True   \n",
       "2         0    False  False    False    False     False      False    False   \n",
       "3         0    False  False    False     True     False       True    False   \n",
       "4         1     True  False    False    False     False      False     True   \n",
       "\n",
       "   non-fiction  fiction  ...  published_before_70's  published_in_the_70's  \\\n",
       "0        False     True  ...                      0                      0   \n",
       "1        False     True  ...                      0                      0   \n",
       "2        False    False  ...                      0                      0   \n",
       "3         True    False  ...                      0                      0   \n",
       "4        False    False  ...                      0                      0   \n",
       "\n",
       "   published_in_the_80's  published_in_the_90's  published_in_the_00's  \\\n",
       "0                      0                      0                      0   \n",
       "1                      0                      0                      0   \n",
       "2                      0                      0                      1   \n",
       "3                      0                      0                      0   \n",
       "4                      0                      0                      0   \n",
       "\n",
       "   published_in_the_10's  #Pages>200  #Pages>250  #Pages>300  #Pages>500  \n",
       "0                      1           0           0           0           0  \n",
       "1                      1           1           1           0           0  \n",
       "2                      0           0           0           0           0  \n",
       "3                      1           1           0           0           0  \n",
       "4                      1           1           1           0           0  \n",
       "\n",
       "[5 rows x 32 columns]"
      ]
     },
     "execution_count": 8,
     "metadata": {},
     "output_type": "execute_result"
    }
   ],
   "source": [
    "df_bin.head()"
   ]
  },
  {
   "cell_type": "code",
   "execution_count": 9,
   "metadata": {},
   "outputs": [
    {
     "name": "stdout",
     "output_type": "stream",
     "text": [
      "<class 'pandas.core.frame.DataFrame'>\n",
      "RangeIndex: 33581 entries, 0 to 33580\n",
      "Data columns (total 32 columns):\n",
      " #   Column                 Non-Null Count  Dtype\n",
      "---  ------                 --------------  -----\n",
      " 0   is_ebook               33581 non-null  int64\n",
      " 1   romance                33581 non-null  bool \n",
      " 2   crime                  33581 non-null  bool \n",
      " 3   graphic                33581 non-null  bool \n",
      " 4   history                33581 non-null  bool \n",
      " 5   children               33581 non-null  bool \n",
      " 6   biography              33581 non-null  bool \n",
      " 7   fantasy                33581 non-null  bool \n",
      " 8   non-fiction            33581 non-null  bool \n",
      " 9   fiction                33581 non-null  bool \n",
      " 10  thriller               33581 non-null  bool \n",
      " 11  young-adult            33581 non-null  bool \n",
      " 12  poetry                 33581 non-null  bool \n",
      " 13  comics                 33581 non-null  bool \n",
      " 14  paranormal             33581 non-null  bool \n",
      " 15  historical fiction     33581 non-null  bool \n",
      " 16  mystery                33581 non-null  bool \n",
      " 17  avg_rating>=1          33581 non-null  int64\n",
      " 18  avg_rating>=2          33581 non-null  int64\n",
      " 19  avg_rating>=3          33581 non-null  int64\n",
      " 20  avg_rating>=4          33581 non-null  int64\n",
      " 21  avg_rating>=4.5        33581 non-null  int64\n",
      " 22  published_before_70's  33581 non-null  int64\n",
      " 23  published_in_the_70's  33581 non-null  int64\n",
      " 24  published_in_the_80's  33581 non-null  int64\n",
      " 25  published_in_the_90's  33581 non-null  int64\n",
      " 26  published_in_the_00's  33581 non-null  int64\n",
      " 27  published_in_the_10's  33581 non-null  int64\n",
      " 28  #Pages>200             33581 non-null  int64\n",
      " 29  #Pages>250             33581 non-null  int64\n",
      " 30  #Pages>300             33581 non-null  int64\n",
      " 31  #Pages>500             33581 non-null  int64\n",
      "dtypes: bool(16), int64(16)\n",
      "memory usage: 4.6 MB\n"
     ]
    }
   ],
   "source": [
    "df_bin.info()"
   ]
  },
  {
   "cell_type": "code",
   "execution_count": 10,
   "metadata": {},
   "outputs": [],
   "source": [
    "tfidf = TfidfVectorizer(ngram_range=(1,2), max_df = 0.4, stop_words='english')\n",
    "tfidf_matrix = tfidf.fit_transform(df.Clean_text)\n",
    "cosine_sim_txt = np.dot(tfidf_matrix,tfidf_matrix.T).toarray()\n",
    "\n",
    "#cosine_sim_txt = pd.DataFrame(cosine_sim_txt, index=df.index, columns=df.index)"
   ]
  },
  {
   "cell_type": "code",
   "execution_count": 11,
   "metadata": {},
   "outputs": [],
   "source": [
    "jac_sim = 1- pairwise_distances(df_bin, metric = \"hamming\")\n",
    "#jac_sim = pd.DataFrame(jac_sim, index=df.index, columns=df.index)"
   ]
  },
  {
   "cell_type": "code",
   "execution_count": 35,
   "metadata": {},
   "outputs": [],
   "source": [
    "def get_recommendations(titles, similarity, df, n=20):\n",
    "    \"\"\"Get recommendations based a given similarity table\"\"\"\n",
    "    indices = pd.Series(df.index, index=df['title'])\n",
    "    #print(indices.head())\n",
    "    idxs = [indices[title] for title in titles]\n",
    "    all_similarity_df = pd.DataFrame()\n",
    "    for idx in idxs:\n",
    "        #print(all_similarity_df.head())\n",
    "        # pairwsie similarity scores\n",
    "\n",
    "        sim_scores = list(enumerate(similarity[idx]))\n",
    "        # sorting\n",
    "        #sim_scores = sorted(sim_scores, key=lambda x: x[1], reverse=True) \n",
    "        #sim_scores = sim_scores[1:n] #index 0 is the same book\n",
    "        #print(sim_scores[:10])\n",
    "        book_indices = [i[1] for i in sim_scores if i[0] not in idxs]\n",
    "        #print(article_indices[:10])\n",
    "        similarity_df = pd.DataFrame(book_indices, columns=[idx])\n",
    "        all_similarity_df = pd.concat([all_similarity_df, similarity_df],axis =1)\n",
    "        #print(article_indices)\n",
    "    #article_indices = [i for i in article_indices if i not in idxs] #Remove index of read books\n",
    "    all_similarity_df['max_similarity'] = all_similarity_df.max(axis=1)\n",
    "    return all_similarity_df.max_similarity.tolist()\n",
    "\n",
    "def get_all_recommendations(titles, similarities, df, n=20):\n",
    "    \"\"\"Get similarities given a list of similarity tables\"\"\"\n",
    "    sim_df = pd.DataFrame()\n",
    "    for similarity in similarities:\n",
    "        tmp_df = pd.DataFrame(get_recommendations(titles, similarity, df, n))\n",
    "        sim_df = pd.concat([sim_df, tmp_df], axis=1)\n",
    "    print(sim_df.head())\n",
    "    sim_df['similarity_score'] = sim_df.sum(axis=1)/sim_df.shape[1]\n",
    "    book_indices = sorted(list(enumerate(sim_df.similarity_score)), key=lambda x: x[1], reverse=True) \n",
    "    top_n_idx = [x[0] for x in book_indices][:n]\n",
    "    top_n_sim = [x[1] for x in book_indices][:n]\n",
    "    print(top_n_sim)\n",
    "    #article_indices = list(all_similarity_df.drop_duplicates(keep=\"first\")['indices']) #keep first occurrence of list\n",
    "    return df['title'].iloc[top_n_idx]\n"
   ]
  },
  {
   "cell_type": "code",
   "execution_count": 16,
   "metadata": {},
   "outputs": [
    {
     "name": "stderr",
     "output_type": "stream",
     "text": [
      "100%|██████████| 100/100 [44:03<00:00, 26.44s/it]\n",
      "/tmp/ipykernel_2444/266087412.py:17: DeprecationWarning: Call to deprecated `docvecs` (The `docvecs` property has been renamed `dv`.).\n",
      "  document_embeddings[i]=model_d2v.docvecs[i]\n"
     ]
    }
   ],
   "source": [
    "#Generate doc2bow models\n",
    "\n",
    "tagged_data = [TaggedDocument(words=doc.split(' '), tags=[i]) for i, doc in enumerate(df.Clean_text)]\n",
    "model_d2v = Doc2Vec(vector_size=100,alpha=0.025, min_count=1)\n",
    "  \n",
    "model_d2v.build_vocab(tagged_data)\n",
    "\n",
    "for epoch in tqdm(range(100)):\n",
    "    model_d2v.train(tagged_data,\n",
    "                total_examples=model_d2v.corpus_count,\n",
    "                epochs=model_d2v.epochs)\n",
    "    \n",
    "document_embeddings=np.zeros((df.shape[0],100))\n",
    "\n",
    "for i in range(len(document_embeddings)):\n",
    "    document_embeddings[i]=model_d2v.docvecs[i]\n",
    "    \n",
    "    \n",
    "doc2bow_sim=cosine_similarity(document_embeddings)"
   ]
  },
  {
   "cell_type": "code",
   "execution_count": 37,
   "metadata": {},
   "outputs": [
    {
     "name": "stdout",
     "output_type": "stream",
     "text": [
      "         0         0\n",
      "0  0.71875  0.412034\n",
      "1  0.75000  0.371968\n",
      "2  0.81250  0.430004\n",
      "3  0.75000  0.319309\n",
      "4  0.84375  0.418888\n",
      "[0.8436062076196646, 0.8230253453828307, 0.8208633927204041, 0.8175156080884871, 0.814813294328836, 0.8141691256384336, 0.8136436780122307, 0.8118025090491727, 0.8076577335637354, 0.8046392889967215, 0.8045409878831087, 0.8038979822344015, 0.803656776661414, 0.8032579752314765, 0.80308698117489, 0.8018623379102091, 0.8015011628995301, 0.8004100706716216, 0.8002686024233217, 0.7991652103376008]\n",
      "2230                                         Skymningsland\n",
      "21574    Heroes for All Time: Connecticut Civil War Sol...\n",
      "12428                               Miss Appleby's Academy\n",
      "26989                                         سماوات جائعة\n",
      "26932                                     Praying for Time\n",
      "12065            A Companion to Wolves (Iskryne World, #1)\n",
      "28078    Energize!: Energizers and Other Great Cooperat...\n",
      "24619                                         Straw Writes\n",
      "6895                                               Oiufael\n",
      "3362                          الفلسفة الإسلامية: في المشرق\n",
      "1237                                            علم البديع\n",
      "2131            Supermom: Sukses di Rumah Sukses di Kantor\n",
      "157                     periplum maps our star/less shores\n",
      "1240                                      أنت في عمري صلاة\n",
      "19602                      A Call to Arms (The Damned, #1)\n",
      "2607                                       Pleše v somraku\n",
      "19329             Broken Wings (Tales of the Citadel, #41)\n",
      "18851                                      Too big to fail\n",
      "28912    The Journey from Texts to Translations: The Or...\n",
      "9779     عندما جلدوني في المعتقل: شهادة عن الواقع السيا...\n",
      "Name: title, dtype: object\n"
     ]
    }
   ],
   "source": [
    "print(get_all_recommendations([\"Miss Fortune (Poison Apple #3)\", \"Who Stole Alligator's Shoe?\", \"The Unround Circle\"], similarities=[jac_sim, doc2bow_sim], df = df))"
   ]
  }
 ],
 "metadata": {
  "kernelspec": {
   "display_name": "naimrod",
   "language": "python",
   "name": "python3"
  },
  "language_info": {
   "codemirror_mode": {
    "name": "ipython",
    "version": 3
   },
   "file_extension": ".py",
   "mimetype": "text/x-python",
   "name": "python",
   "nbconvert_exporter": "python",
   "pygments_lexer": "ipython3",
   "version": "3.10.9"
  },
  "orig_nbformat": 4,
  "vscode": {
   "interpreter": {
    "hash": "a875543ec1c7dd86e077abc00b3e0be2cb18cc51a8e0db6567db693e499e8433"
   }
  }
 },
 "nbformat": 4,
 "nbformat_minor": 2
}
